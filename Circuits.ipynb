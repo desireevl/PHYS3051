{
 "cells": [
  {
   "cell_type": "code",
   "execution_count": 182,
   "metadata": {},
   "outputs": [],
   "source": [
    "from qiskit import QuantumCircuit, ClassicalRegister, QuantumRegister\n",
    "from qiskit import execute, Aer\n",
    "from math import pi\n",
    "import seaborn as sns\n",
    "import pandas as pd\n",
    "import matplotlib.pyplot as plt"
   ]
  },
  {
   "cell_type": "code",
   "execution_count": 232,
   "metadata": {},
   "outputs": [
    {
     "data": {
      "image/png": "[encoded data removed]",
      "text/plain": [
       "<Figure size 864x288 with 2 Axes>"
      ]
     },
     "metadata": {
      "needs_background": "light"
     },
     "output_type": "display_data"
    }
   ],
   "source": [
    "num = 0\n",
    "time_steps = [0]\n",
    "for i in range(10):\n",
    "    num += 0.02\n",
    "    time_steps.append(num)\n",
    "\n",
    "time_range = [x for x in range(0,10)]\n",
    "\n",
    "states = ['00', '01', '10', '11']\n",
    "\n",
    "q = QuantumRegister(2)\n",
    "c = ClassicalRegister(2)\n",
    "qc = QuantumCircuit(q, c)\n",
    "\n",
    "df = pd.DataFrame(columns=['state', 'time', 'value'])\n",
    "\n",
    "count = 0\n",
    "for t, t_val in zip(time_steps, time_range):\n",
    "    qc.u1(12*t, q[1])\n",
    "\n",
    "    qc.h(q[0])\n",
    "    qc.cx(q[1], q[0])\n",
    "    qc.tdg(q[0])\n",
    "    qc.cx(q[1], q[0])\n",
    "    qc.t(q[0])\n",
    "    qc.t(q[1])\n",
    "    qc.h(q[1])\n",
    "\n",
    "    qc.u1((-pi**2/4)*t, q[0])\n",
    "    qc.u1((-pi**2/4)*t,q[1])\n",
    "    qc.cx(q[1], q[0])\n",
    "    qc.u1((-pi**2/2)*t, q[0])\n",
    "    qc.cx(q[1], q[0])\n",
    "    qc.u1((pi**2/2)*t, q[0])\n",
    "    qc.u1((pi**2/2)*t, q[1])\n",
    "    qc.h(q[1])\n",
    "\n",
    "    qc.cx(q[1], q[0])\n",
    "    qc.t(q[0])\n",
    "    qc.t(q[1])\n",
    "    qc.cx(q[1], q[0])\n",
    "    qc.tdg(q[0])\n",
    "    qc.tdg(q[1])\n",
    "    qc.h(q[0])\n",
    "\n",
    "    qc.h(q[0])\n",
    "    qc.cx(q[1], q[0])\n",
    "    qc.tdg(q[0])\n",
    "    qc.cx(q[1],q[0])\n",
    "    qc.t(q[0])\n",
    "    qc.t(q[1])\n",
    "    qc.h(q[1])\n",
    "\n",
    "    qc.u1((-pi**2/4)*t, q[0])\n",
    "    qc.u1((-pi**2/4)*t, q[1])\n",
    "    qc.cx(q[1], q[0])\n",
    "    qc.u1((-pi**2/2)*t, q[0])\n",
    "    qc.cx (q[1], q[0])\n",
    "    qc.u1((pi**2/2)*t, q[0])\n",
    "    qc.u1((pi**2/2)*t, q[1])\n",
    "    qc.h(q[1])\n",
    "\n",
    "    qc.cx(q[1], q[0])\n",
    "    qc.t(q[0])\n",
    "    qc.t(q[1])\n",
    "    qc.cx(q[1], q[0])\n",
    "    qc.tdg(q[0])\n",
    "    qc.tdg(q[1])\n",
    "    qc.h(q[0])\n",
    "\n",
    "    qc.u1(12*t, q[1])\n",
    "\n",
    "    qc.measure(q[0], c[0])\n",
    "    qc.measure(q[1], c[1])\n",
    "\n",
    "    backend_sim = Aer.get_backend('qasm_simulator')\n",
    "    job_sim = execute(qc, backend_sim)\n",
    "    result_sim = job_sim.result()\n",
    "\n",
    "    dicty = result_sim.get_counts(qc)\n",
    "    \n",
    "    for state in states:\n",
    "        try:\n",
    "            df.loc[count] = [state, t_val, dicty[state]]\n",
    "        except KeyError:\n",
    "            df.loc[count] = [state, t_val, 0]\n",
    "        count += 1\n",
    "            \n",
    "df = df.pivot(\"state\", \"time\", \"value\")\n",
    "df = df[df.columns].astype(int)\n",
    "plt.figure(figsize = (12, 4))\n",
    "ax = sns.heatmap(df, cmap=\"YlGnBu\")"
   ]
  },
  {
   "cell_type": "code",
   "execution_count": null,
   "metadata": {},
   "outputs": [],
   "source": []
  }
 ],
 "metadata": {
  "kernelspec": {
   "display_name": "Python 3",
   "language": "python",
   "name": "python3"
  },
  "language_info": {
   "codemirror_mode": {
    "name": "ipython",
    "version": 3
   },
   "file_extension": ".py",
   "mimetype": "text/x-python",
   "name": "python",
   "nbconvert_exporter": "python",
   "pygments_lexer": "ipython3",
   "version": "3.7.3"
  }
 },
 "nbformat": 4,
 "nbformat_minor": 2
}
